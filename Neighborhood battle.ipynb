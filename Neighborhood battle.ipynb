{
 "cells": [
  {
   "cell_type": "markdown",
   "metadata": {},
   "source": [
    "# Neighborhood Battle (Week 1)\n",
    "## Introduction/Business Problem:\n",
    "Where is the best place to open a Cafe in Cairo?  Are there any competitors nearby? Which place has the most most reviews in Cairo?\n",
    "## Data Describtion:\n",
    "Foursquare data for Cairo will be utilized. The main target will be Cafe type Venues.  The reviews count of the location will be used as a criteria to rank the location. "
   ]
  },
  {
   "cell_type": "code",
   "execution_count": null,
   "metadata": {},
   "outputs": [],
   "source": []
  }
 ],
 "metadata": {
  "kernelspec": {
   "display_name": "Python 3",
   "language": "python",
   "name": "python3"
  },
  "language_info": {
   "codemirror_mode": {
    "name": "ipython",
    "version": 3
   },
   "file_extension": ".py",
   "mimetype": "text/x-python",
   "name": "python",
   "nbconvert_exporter": "python",
   "pygments_lexer": "ipython3",
   "version": "3.6.4"
  }
 },
 "nbformat": 4,
 "nbformat_minor": 2
}
